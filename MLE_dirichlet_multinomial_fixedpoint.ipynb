{
 "cells": [
  {
   "cell_type": "code",
   "execution_count": 1,
   "metadata": {},
   "outputs": [],
   "source": [
    "import numpy as np\n",
    "import scipy.stats as stats\n",
    "from scipy.special import digamma\n",
    "import matplotlib.pyplot as plt"
   ]
  },
  {
   "cell_type": "code",
   "execution_count": 2,
   "metadata": {},
   "outputs": [],
   "source": [
    "def fit(data, n_steps):\n",
    "    \"\"\"MLE Fit dirichlet multinomial distribution to multinomial observation data\n",
    "    using the fixed point iteration of \"Estimating a Dirichlet distribution\" Minka \n",
    "    Equation (55)\n",
    "\n",
    "    \n",
    "    Inputs\n",
    "    ------\n",
    "    data - 2d nd.array. Axis 0 - observations, axis 1 - multinimial outcomes\n",
    "    n_steps - int\n",
    "    \n",
    "    Returns\n",
    "    -------\n",
    "        alpha_vs_iter - list of alpha estimates vs iteration\n",
    "    \n",
    "    \n",
    "    To improve: better initialization using method of moments\n",
    "    \"\"\"\n",
    "    \n",
    "    def update(alpha_old, data):\n",
    "\n",
    "        alpha_new = alpha_old * \\\n",
    "                     (digamma(data + alpha_old[None,:]) - digamma(alpha_old)).sum(axis =0)/( \\\n",
    "                      (digamma(data.sum(axis = 1) + alpha_old.sum())- digamma( alpha_old.sum()))).sum()\n",
    "\n",
    "        return alpha_new\n",
    "    \n",
    "    \n",
    "    col_sums = data.sum(axis = 0)\n",
    "    \n",
    "    alpha = np.ones(data.shape[1])\n",
    "    \n",
    "    i = 0\n",
    "    alpha_vs_iter= [alpha]\n",
    "    while i < n_steps:\n",
    "        alpha = update(alpha, data)\n",
    "        alpha_vs_iter.append(alpha)\n",
    "        i+=1\n",
    "    return alpha_vs_iter"
   ]
  },
  {
   "cell_type": "code",
   "execution_count": 3,
   "metadata": {},
   "outputs": [],
   "source": [
    "#####################################\n",
    "## Generate some dummy data  ########\n",
    "#####################################\n",
    "\n",
    "n_sides = 20\n",
    "n_obsv = 500\n",
    "alpha_true = 5*np.random.ranf(size = n_sides)\n",
    "\n",
    "trials_per_obsv = np.random.choice(list(range(1,16,1)),\n",
    "                                   p = np.array(list(range(1,16,1)))/ ((15 +1)*(15)/2),\n",
    "                                  size = n_obsv\n",
    "                                  )\n",
    "obsv_array =  np.array( [ stats.multinomial.rvs(n = trial_obsv,\n",
    "                                                      p = stats.dirichlet.rvs(alpha = alpha_true).squeeze()\n",
    "                                                     ) \n",
    "                        for trial_obsv in trials_per_obsv  ]\n",
    "                            \n",
    "                       )"
   ]
  },
  {
   "cell_type": "code",
   "execution_count": 4,
   "metadata": {},
   "outputs": [
    {
     "data": {
      "text/plain": [
       "array([241, 359, 434, 484, 253, 421,  52, 148, 123, 275, 149,  61, 530,\n",
       "       475,  14, 347,  91, 332,   1, 475])"
      ]
     },
     "execution_count": 4,
     "metadata": {},
     "output_type": "execute_result"
    }
   ],
   "source": [
    "obsv_array.sum(axis = 0)"
   ]
  },
  {
   "cell_type": "code",
   "execution_count": 5,
   "metadata": {},
   "outputs": [],
   "source": [
    "###########################\n",
    "######### FIT.       ######\n",
    "###########################\n",
    "result = fit(data = obsv_array , n_steps = 200)"
   ]
  },
  {
   "cell_type": "code",
   "execution_count": 6,
   "metadata": {},
   "outputs": [
    {
     "data": {
      "text/plain": [
       "[<matplotlib.lines.Line2D at 0x7fc0fcf1f190>]"
      ]
     },
     "execution_count": 6,
     "metadata": {},
     "output_type": "execute_result"
    },
    {
     "data": {
      "image/png": "[encoded data removed]",
      "text/plain": [
       "<Figure size 432x288 with 1 Axes>"
      ]
     },
     "metadata": {
      "needs_background": "light"
     },
     "output_type": "display_data"
    }
   ],
   "source": [
    "###########################\n",
    "### Convergence      ######\n",
    "###########################\\\n",
    "plt.plot( list(range(len(result)-1)),\n",
    "          [max(np.abs(cur - prev)) for cur, prev in zip(result[1:], result[0:-1]) ]\n",
    "        )\n"
   ]
  },
  {
   "cell_type": "code",
   "execution_count": 15,
   "metadata": {
    "scrolled": false
   },
   "outputs": [
    {
     "name": "stdout",
     "output_type": "stream",
     "text": [
      "[1.95166252 3.2301797  3.95298624 4.27527158 2.4066774  3.4754897\n",
      " 0.53638904 1.469929   0.92437378 2.47348508 1.32244468 0.56797216\n",
      " 4.41016114 4.22297962 0.18012036 3.21453972 0.8357405  2.86007381\n",
      " 0.00570323 4.18630165]\n",
      "[2.25813905 3.44008423 4.13679176 4.56925269 2.44825651 4.01396938\n",
      " 0.51029067 1.38749763 1.18607759 2.63096868 1.43636105 0.58646152\n",
      " 5.07802399 4.5029316  0.13751431 3.29458664 0.82641065 3.13910771\n",
      " 0.01048058 4.49247887]\n"
     ]
    },
    {
     "data": {
      "text/plain": [
       "[<matplotlib.lines.Line2D at 0x7fc0fd530dc0>]"
      ]
     },
     "execution_count": 15,
     "metadata": {},
     "output_type": "execute_result"
    },
    {
     "data": {
      "image/png": "[encoded data removed]",
      "text/plain": [
       "<Figure size 432x288 with 1 Axes>"
      ]
     },
     "metadata": {
      "needs_background": "light"
     },
     "output_type": "display_data"
    }
   ],
   "source": [
    "#######################################################\n",
    "### Print true alpha and final estimates      ######\n",
    "######################################################\n",
    "print(alpha_true)\n",
    "print(result[-1])\n",
    "plt.scatter(alpha_true, result[-1])\n",
    "plt.plot([0,5], [0,5], color = 'g')"
   ]
  },
  {
   "cell_type": "code",
   "execution_count": null,
   "metadata": {},
   "outputs": [],
   "source": []
  }
 ],
 "metadata": {
  "kernelspec": {
   "display_name": "Python 3",
   "language": "python",
   "name": "python3"
  },
  "language_info": {
   "codemirror_mode": {
    "name": "ipython",
    "version": 3
   },
   "file_extension": ".py",
   "mimetype": "text/x-python",
   "name": "python",
   "nbconvert_exporter": "python",
   "pygments_lexer": "ipython3",
   "version": "3.8.3"
  }
 },
 "nbformat": 4,
 "nbformat_minor": 4
}
